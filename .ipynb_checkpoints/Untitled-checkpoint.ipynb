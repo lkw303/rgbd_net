{
 "cells": [
  {
   "cell_type": "code",
   "execution_count": 2,
   "metadata": {},
   "outputs": [],
   "source": [
    "import tensorflow as tf\n",
    "from tensorflow_examples.models.pix2pix import pix2pix\n",
    "\n",
    "\n",
    "import matplotlib.pyplot as plt\n",
    "\n",
    "import os\n",
    "import numpy as np\n",
    "import cv2"
   ]
  },
  {
   "cell_type": "code",
   "execution_count": null,
   "metadata": {},
   "outputs": [],
   "source": [
    "IMG_SIZE = 384\n",
    "OUTPUT_CHANNELS = 7\n",
    "EPOCHS = 1000\n",
    "BATCH_SIZE = 16"
   ]
  },
  {
   "cell_type": "code",
   "execution_count": null,
   "metadata": {},
   "outputs": [],
   "source": [
    "depth_model = tf.keras.applications.MobileNetV2(input_shape=[IMG_SIZE, IMG_SIZE, 3], include_top=False)\n",
    "\n",
    "# Use the activations of these layers\n",
    "layer2_names = [\n",
    "    'block_1_expand_relu',   # 64x64\n",
    "    'block_3_expand_relu',   # 32x32\n",
    "    'block_6_expand_relu',   # 16x16\n",
    "    'block_13_expand_relu',  # 8x8\n",
    "    #'block_16_project',      # 4x4\n",
    "]\n",
    "layer2 = [depth_model.get_layer(name).output for name in layer2_names]\n",
    "depth_stack = tf.keras.Model(inputs=depth_model.input, outputs=layer2)\n",
    "\n",
    "\n",
    "base_model = tf.keras.applications.MobileNetV2(input_shape=[IMG_SIZE, IMG_SIZE, 3], include_top=False)\n",
    "\n",
    "# Use the activations of these layers\n",
    "layer_names = [\n",
    "    'block_1_expand_relu',   # 64x64\n",
    "\n",
    "    'block_3_expand_relu',   # 32x32\n",
    "    'block_6_expand_relu',   # 16x16\n",
    "    'block_13_expand_relu',  # 8x8\n",
    "    'block_16_project',      # 4x4\n",
    "]\n",
    "layers = [base_model.get_layer(name).output for name in layer_names]\n",
    "\n",
    "# Create the feature extraction model\n",
    "down_stack = tf.keras.Model(inputs=base_model.input, outputs=layers)\n",
    "\n",
    "#down_stack.trainable = False\n",
    "\n",
    "up_stack = [\n",
    "    pix2pix.upsample(512, 3),  # 4x4 -> 8x8\n",
    "    pix2pix.upsample(256, 3),  # 8x8 -> 16x16\n",
    "    pix2pix.upsample(128, 3),  # 16x16 -> 32x32\n",
    "    pix2pix.upsample(64, 3),   # 32x32 -> 64x64\n",
    "]"
   ]
  },
  {
   "cell_type": "code",
   "execution_count": null,
   "metadata": {},
   "outputs": [],
   "source": [
    "def unet_model(output_channels):\n",
    "\n",
    "    inputs = tf.keras.layers.Input(shape=[IMG_SIZE,IMG_SIZE,3])\n",
    "    x = inputs\n",
    "\n",
    "    inputs2 = tf.keras.layers.Input(shape=[IMG_SIZE,IMG_SIZE,3])\n",
    "    x2 = inputs2\n",
    "\n",
    "    # Downsampling through the model\n",
    "    skips = down_stack(x) #tf.keras.Model(inputs=tf.keras.layers.Input(shape=[128, 128, 3]), outputs=layers)\n",
    "    x = skips[-1]\n",
    "    skips = reversed(skips[:-1])\n",
    "\n",
    "    #for depth stack\n",
    "    skips2 = depth_stack(x2)\n",
    "    skips2 = reversed(skips2[:])\n",
    "\n",
    "    # Upsampling and establishing the skip connections\n",
    "    for up, skip, skip2 in zip(up_stack, skips, skips2):\n",
    "        x = up(x) #x initially is output of downstack i.e'block_16_project', layer then x becomes pix2pix.upsample(512, 3)(x) subsequently this x is the reslt of the last line of the previous iteration\n",
    "        concat = tf.keras.layers.Concatenate()\n",
    "        x = concat([x, skip]) # 1) concat(pix2pix.upsample(512, 3)('block_16_project'), 'block_13_expand_relu') (2)\n",
    "        x= concat([x,skip2])\n",
    "\n",
    "\n",
    "    # This is the last layer of the model\n",
    "    last = tf.keras.layers.Conv2DTranspose(\n",
    "        output_channels, 3, strides=2,\n",
    "        padding='same')  #64x64 -> 128x128\n",
    "\n",
    "    \n",
    "    \n",
    "    x = last(x)\n",
    "    return tf.keras.Model(inputs=[inputs, inputs2], outputs=x)\n",
    "\n",
    "model = unet_model(OUTPUT_CHANNELS)\n"
   ]
  },
  {
   "cell_type": "code",
   "execution_count": null,
   "metadata": {},
   "outputs": [],
   "source": [
    "weights_path = os.path.join(\"./trained_weights\", \"depth_weights\",\"train_depth_2.h5\")\n",
    "\n",
    "model.load_weights(weights_path)\n",
    "\n",
    "model.compile(optimizer= tf.keras.optimizers.Adam(learning_rate = 0.000001),\n",
    "              loss=tf.keras.losses.SparseCategoricalCrossentropy(from_logits=True),\n",
    "              metrics=['accuracy'])\n",
    "\n"
   ]
  },
  {
   "cell_type": "code",
   "execution_count": null,
   "metadata": {},
   "outputs": [],
   "source": [
    "train_image_path = os.path.join(os.path.expanduser(\"~\"), \"Desktop\", \"cityscape\",\"leftImg8bit\",\"train\")\n",
    "train_depth_path = os.path.join(os.path.expanduser(\"~\"), \"Desktop\", \"cityscape\",\"disparity_trainvaltest\",\"disparity\", \"train\")\n",
    "train_label_path = os.path.join(os.path.expanduser(\"~\"), \"Desktop\",\"cityscape\", \"gtFine_trainvaltest\",\"gtFine\",\"train_encoding\")"
   ]
  },
  {
   "cell_type": "code",
   "execution_count": null,
   "metadata": {},
   "outputs": [],
   "source": [
    "X_train_img = []\n",
    "X_train_depth = []\n",
    "Y_train = []"
   ]
  },
  {
   "cell_type": "code",
   "execution_count": null,
   "metadata": {},
   "outputs": [],
   "source": [
    "def create_train_data():\n",
    "    for subdir in os.listdir(train_label_path):\n",
    "        city_label_folder_path = os.path.join(train_label_path,subdir)\n",
    "        city_image_folder_path = os.path.join(train_image_path,subdir)\n",
    "        city_depth_folder_path = os.path.join(train_depth_path,subdir)\n",
    "        for files in os.listdir(city_label_folder_path):\n",
    "            data_id = str(files)[:-len(\"_gtFine_polygons_encoding.png\")]\n",
    "            print(data_id)\n",
    "            segmented_img = cv2.imread(os.path.join(os.path.join(city_label_folder_path,files)), 0)\n",
    "            segmented_img = segmented_img[:825,:]\n",
    "            photo_img = cv2.imread(os.path.join(city_image_folder_path,data_id + \"_leftImg8bit.png\"))\n",
    "            photo_img = photo_img[:825,:]\n",
    "            depth_img = cv2.imread(os.path.join(city_depth_folder_path,data_id + \"_disparity.png\"))\n",
    "            depth_img = depth_img[:825,:]\n",
    "\n",
    "            segmented_img = cv2.resize(segmented_img,(IMG_SIZE,IMG_SIZE))\n",
    "            segmented_img = np.reshape(segmented_img,(IMG_SIZE,IMG_SIZE,1))\n",
    "            photo_img= cv2.resize(photo_img, (IMG_SIZE,IMG_SIZE))/255\n",
    "            depth_img = cv2.resize(depth_img, (IMG_SIZE,IMG_SIZE))/255\n",
    "\n",
    "            X_train_img.append(photo_img)\n",
    "            X_train_depth.append(depth_img)\n",
    "            Y_train.append(segmented_img)\n",
    "\n",
    "\n",
    "\n",
    "\n",
    "create_train_data()\n"
   ]
  },
  {
   "cell_type": "code",
   "execution_count": null,
   "metadata": {},
   "outputs": [],
   "source": [
    "X_train_img = np.reshape(X_train_img,(-1, IMG_SIZE,IMG_SIZE,3))\n",
    "X_train_depth =np.reshape(X_train_depth,(-1, IMG_SIZE,IMG_SIZE,3))\n",
    "X_train = (X_train_img,X_train_depth)\n",
    "\n",
    "Y_train = np.reshape(Y_train, (-1,IMG_SIZE,IMG_SIZE,1))"
   ]
  },
  {
   "cell_type": "code",
   "execution_count": null,
   "metadata": {},
   "outputs": [],
   "source": [
    "model_history = model.fit(X_train, Y_train, \n",
    "                        batch_size = BATCH_SIZE,\n",
    "                        epochs = 1000, \n",
    "                        validation_split =0.1,\n",
    "                        verbose =1,\n",
    "                        )\n",
    "\n",
    "model.save_weights(os.path.join(\"./\", \"trained_weights\", \"train_depth_3.h5\"))\n",
    "model.save(os.path.join(\"./\", \"trained_weights\", \"train_depth_full_model_1.h5\"))"
   ]
  }
 ],
 "metadata": {
  "kernelspec": {
   "display_name": "Python 3",
   "language": "python",
   "name": "python3"
  },
  "language_info": {
   "codemirror_mode": {
    "name": "ipython",
    "version": 3
   },
   "file_extension": ".py",
   "mimetype": "text/x-python",
   "name": "python",
   "nbconvert_exporter": "python",
   "pygments_lexer": "ipython3",
   "version": "3.7.7"
  }
 },
 "nbformat": 4,
 "nbformat_minor": 4
}
